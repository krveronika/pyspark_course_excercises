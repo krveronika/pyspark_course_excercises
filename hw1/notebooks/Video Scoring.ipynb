{
 "cells": [
  {
   "cell_type": "code",
   "execution_count": 1,
   "id": "4b94b2e0-3796-411b-ad82-1b56e7f89e1f",
   "metadata": {},
   "outputs": [],
   "source": [
    "import pyspark\n",
    "from pyspark.sql.functions import *\n",
    "from pyspark.sql.types import *\n",
    "from pyspark.sql import SparkSession\n",
    "\n",
    "spark = SparkSession.builder.master(\"local\") \\\n",
    "    .config('spark.sql.autoBroadcastJoinThreshold', 0) \\\n",
    "    .config('spark.sql.adaptive.enabled', 'false') \\\n",
    "    .getOrCreate()"
   ]
  },
  {
   "cell_type": "raw",
   "id": "797aa97f-ea0b-458c-9f9f-d5f9f5a3172f",
   "metadata": {},
   "source": [
    "!pip install opendatasets"
   ]
  },
  {
   "cell_type": "raw",
   "id": "f52c61a9-0526-4805-ace8-3327e40ffe65",
   "metadata": {},
   "source": [
    "import opendatasets as od"
   ]
  },
  {
   "cell_type": "raw",
   "id": "3f32a665-d820-4ff9-81d1-bd745f9ff232",
   "metadata": {},
   "source": [
    "od.download(\"https://www.kaggle.com/datasets/datasnaek/youtube\", data_dir = '../datasets')"
   ]
  },
  {
   "cell_type": "raw",
   "id": "14529e43-f474-4056-8e0d-e633b02fbee5",
   "metadata": {},
   "source": [
    "!mv ../datasets/youtube/USvideos.csv ../datasets/USvideos.csv\n",
    "!mv ../datasets/youtube/US_category_id.json ../datasets/US_category_id.json\n",
    "!mv ../datasets/youtube/UScomments.csv ../datasets/UScomments.csv"
   ]
  },
  {
   "cell_type": "raw",
   "id": "65b53f6c-08bd-4a57-bcd4-7cab0d7ebfc5",
   "metadata": {},
   "source": [
    "rm -r ../datasets/youtube"
   ]
  },
  {
   "cell_type": "markdown",
   "id": "31d467e0-4a2a-4037-a5c7-b381f4c1204f",
   "metadata": {},
   "source": [
    "# Данные"
   ]
  },
  {
   "cell_type": "code",
   "execution_count": 2,
   "id": "1c2a19f1-09d4-433b-bb14-495e1f69bf43",
   "metadata": {},
   "outputs": [
    {
     "name": "stdout",
     "output_type": "stream",
     "text": [
      "+-----------+--------------------+--------------------+-----------+--------------------+-------+------+--------+-------------+--------------------+-----+\n",
      "|   video_id|               title|       channel_title|category_id|                tags|  views| likes|dislikes|comment_total|      thumbnail_link| date|\n",
      "+-----------+--------------------+--------------------+-----------+--------------------+-------+------+--------+-------------+--------------------+-----+\n",
      "|XpVt6Z1Gjjo|1 YEAR OF VLOGGIN...|    Logan Paul Vlogs|         24|logan paul vlog|l...|4394029|320053|    5931|        46245|https://i.ytimg.c...|13.09|\n",
      "|K4wEI5zhHB0|iPhone X — Introd...|               Apple|         28|Apple|iPhone 10|i...|7860119|185853|   26679|            0|https://i.ytimg.c...|13.09|\n",
      "|cLdxuaxaQwc|         My Response|           PewDiePie|         22|              [none]|5845909|576597|   39774|       170708|https://i.ytimg.c...|13.09|\n",
      "|WYYvHb03Eog|Apple iPhone X fi...|           The Verge|         28|apple iphone x ha...|2642103| 24975|    4542|        12829|https://i.ytimg.c...|13.09|\n",
      "|sjlHnJvXdQs|   iPhone X (parody)|          jacksfilms|         23|jacksfilms|parody...|1168130| 96666|     568|         6666|https://i.ytimg.c...|13.09|\n",
      "|cMKX2tE5Luk|The Disaster Arti...|                 A24|          1|a24|a24 films|a24...|1311445| 34507|     544|         3040|https://i.ytimg.c...|13.09|\n",
      "|8wNr-NQImFg|The Check In: HUD...|Late Night with S...|         23|Late night|Seth M...| 666169|  9985|     297|         1071|https://i.ytimg.c...|13.09|\n",
      "|_HTXMhKWqnA|iPhone X Impressi...|    Marques Brownlee|         28|iPhone X|iphone x...|1728614| 74062|    2180|        15297|https://i.ytimg.c...|13.09|\n",
      "|_ANP3HR1jsM|ATTACKED BY A POL...|    RomanAtwoodVlogs|         22|Roman Atwood|Roma...|1338533| 69687|     678|         5643|https://i.ytimg.c...|13.09|\n",
      "|zgLtEob6X-Q|Honest Trailers -...|      Screen Junkies|          1|screenjunkies|scr...|1056891| 29943|     878|         4046|https://i.ytimg.c...|13.09|\n",
      "|Ayb_2qbZHm4| Honest College Tour|        CollegeHumor|         23|Collegehumor|CH o...| 859289| 34485|     726|         1914|https://i.ytimg.c...|13.09|\n",
      "|CsdzflTXBVQ|Best Floyd Maywea...|     Awkward Puppets|         23|best floyd maywea...| 452477| 28050|     405|         2745|https://i.ytimg.c...|13.09|\n",
      "|l864IBj7cgw|Jennifer Lawrence...|The Tonight Show ...|         23|The Tonight Show|...| 258781|  8085|     303|          726|https://i.ytimg.c...|13.09|\n",
      "|4MkC65emkG4|Hand In Hand A Be...|                 MTV|         24|mtv|video|online|...| 274358|  9215|     477|          838|https://i.ytimg.c...|13.09|\n",
      "|vu_9muoxT50|Colin Cloud: Mind...|America's Got Talent|         24|America's Got Tal...| 473691| 14740|     415|         1696|https://i.ytimg.c...|13.09|\n",
      "|1L7JFN7tQLs|iPhone X Hands on...|   Jonathan Morrison|         28|Apple|iPhone X|iP...| 514972| 18936|     641|         3817|https://i.ytimg.c...|13.09|\n",
      "|ZQK1F0wz6z4|What Do You Want ...| Wong Fu Productions|         24|panda|what should...| 282858| 14870|     300|         1398|https://i.ytimg.c...|13.09|\n",
      "|T_PuZBdT2iM|getting into a co...|               ProZD|          1|skit|korean|langu...|1582683| 65749|    1531|         3598|https://i.ytimg.c...|13.09|\n",
      "|w8fAellnPns|Juicy Chicken Bre...| You Suck At Cooking|         26|how to|cooking|re...| 479951| 23945|     640|         1941|https://i.ytimg.c...|13.09|\n",
      "|UCrBICYM0yM|Downsizing (2017)...|  Paramount Pictures|          1|downsizing|previe...|2693468|  7941|     302|         1432|https://i.ytimg.c...|13.09|\n",
      "+-----------+--------------------+--------------------+-----------+--------------------+-------+------+--------+-------------+--------------------+-----+\n",
      "only showing top 20 rows\n",
      "\n"
     ]
    }
   ],
   "source": [
    "videos = spark.read.option('header', 'true').option(\"inferSchema\", \"true\").csv('../datasets/USvideos.csv')\n",
    "videos.show()"
   ]
  },
  {
   "cell_type": "code",
   "execution_count": 3,
   "id": "7aa8096f-d869-405f-9047-91e0f9caec6d",
   "metadata": {},
   "outputs": [
    {
     "data": {
      "text/plain": [
       "7998"
      ]
     },
     "execution_count": 3,
     "metadata": {},
     "output_type": "execute_result"
    }
   ],
   "source": [
    "videos.count()"
   ]
  },
  {
   "cell_type": "code",
   "execution_count": 4,
   "id": "0700e387-c85f-41d4-9054-f48b081940b1",
   "metadata": {},
   "outputs": [
    {
     "data": {
      "text/plain": [
       "253"
      ]
     },
     "execution_count": 4,
     "metadata": {},
     "output_type": "execute_result"
    }
   ],
   "source": [
    "videos.filter(col('comment_total') == 0).count()"
   ]
  },
  {
   "cell_type": "code",
   "execution_count": 5,
   "id": "805005cc-0c92-45e3-ab79-44a348f9c2d3",
   "metadata": {
    "scrolled": true
   },
   "outputs": [
    {
     "name": "stdout",
     "output_type": "stream",
     "text": [
      "+-----------+--------------------+-----+-------+\n",
      "|   video_id|        comment_text|likes|replies|\n",
      "+-----------+--------------------+-----+-------+\n",
      "|XpVt6Z1Gjjo|Logan Paul it's y...|    4|      0|\n",
      "|XpVt6Z1Gjjo|I've been followi...|    3|      0|\n",
      "|XpVt6Z1Gjjo|Say hi to Kong an...|    3|      0|\n",
      "|XpVt6Z1Gjjo| MY FAN . attendance|    3|      0|\n",
      "|XpVt6Z1Gjjo|         trending 😉|    3|      0|\n",
      "|XpVt6Z1Gjjo|#1 on trending AY...|    3|      0|\n",
      "|XpVt6Z1Gjjo|The end though 😭...|    4|      0|\n",
      "|XpVt6Z1Gjjo|#1 trending!!!!!!!!!|    3|      0|\n",
      "|XpVt6Z1Gjjo|Happy one year vl...|    3|      0|\n",
      "|XpVt6Z1Gjjo|You and your shit...|    0|      0|\n",
      "|XpVt6Z1Gjjo|There should be a...|    0|      0|\n",
      "|XpVt6Z1Gjjo|Dear Logan, I rea...|    0|      0|\n",
      "|XpVt6Z1Gjjo|Honestly Evan is ...|    0|      0|\n",
      "|XpVt6Z1Gjjo|Casey is still be...|    0|      0|\n",
      "|XpVt6Z1Gjjo|aw geez rick this...|    0|      0|\n",
      "|XpVt6Z1Gjjo|He happy cause he...|    0|      0|\n",
      "|XpVt6Z1Gjjo|Ayyyyoooo Logang ...|    1|      0|\n",
      "|XpVt6Z1Gjjo|Bro y didnt u giv...|    0|      0|\n",
      "|XpVt6Z1Gjjo|It's been fun wat...|    3|      0|\n",
      "|XpVt6Z1Gjjo|Made a lot of peo...|    0|      0|\n",
      "+-----------+--------------------+-----+-------+\n",
      "only showing top 20 rows\n",
      "\n"
     ]
    }
   ],
   "source": [
    "comments_schema = StructType([ \\\n",
    "    StructField(\"video_id\", StringType(), True), \\\n",
    "    StructField(\"comment_text\", StringType(), True), \\\n",
    "    StructField(\"likes\", IntegerType(), True), \\\n",
    "    StructField(\"replies\", IntegerType(), True)])\n",
    "comments = spark.read.option('header', 'true').option(\"mode\", \"DROPMALFORMED\").schema(comments_schema).csv('../datasets/UScomments.csv')\n",
    "comments.show()"
   ]
  },
  {
   "cell_type": "code",
   "execution_count": 6,
   "id": "6591154c-701a-4663-8b93-8f8b626f6867",
   "metadata": {},
   "outputs": [
    {
     "data": {
      "text/plain": [
       "691722"
      ]
     },
     "execution_count": 6,
     "metadata": {},
     "output_type": "execute_result"
    }
   ],
   "source": [
    "comments.count()"
   ]
  },
  {
   "cell_type": "code",
   "execution_count": 7,
   "id": "ef848a43-61e3-4b3f-8e6d-7bf5b4f6d284",
   "metadata": {},
   "outputs": [],
   "source": [
    "# считаем файл, так как маленький то в пандас\n",
    "import json\n",
    "import pandas as pd\n",
    "\n",
    "with open('../datasets/US_category_id.json') as json_data:\n",
    "    category_json = json.load(json_data)\n",
    "\n",
    "category = spark.createDataFrame(\n",
    "    [ (int(c['id']), c['snippet']['title']) for c in category_json['items']],\n",
    "    \"id int, title string\"\n",
    ")"
   ]
  },
  {
   "cell_type": "code",
   "execution_count": 8,
   "id": "4c3319a1-ed25-4ef0-83f2-1e81441dc3f4",
   "metadata": {},
   "outputs": [
    {
     "name": "stdout",
     "output_type": "stream",
     "text": [
      "+---+----------------+\n",
      "| id|           title|\n",
      "+---+----------------+\n",
      "|  1|Film & Animation|\n",
      "|  2|Autos & Vehicles|\n",
      "+---+----------------+\n",
      "only showing top 2 rows\n",
      "\n"
     ]
    }
   ],
   "source": [
    "category.show(2)"
   ]
  },
  {
   "cell_type": "markdown",
   "id": "2b4d95f0-6880-46ad-bbd1-771404496f6e",
   "metadata": {},
   "source": [
    "# scored_videos. Посчитаем метрику, чисто потренироваться в группировках\n",
    "\n",
    "1) расчет вовлеченности:\n",
    "из comments:  comment_repl = sum(comment_likes) + count(comment_to_video) + sum(replies)\n",
    "\n",
    "reactions = likes + dislikes + comment_repl\n",
    "\n",
    "3) важность видео в категории:\n",
    "engagement = 100 * views/sum(views)\n",
    "\n",
    "4) score = engagement*reactions\n",
    "\n",
    "\n",
    "Так как comments имеет очень разное количество по отношению к video_id, то буду использовать salt для расчета агрегатов при группировке\n",
    "Мне кажется, что фильтр Блума тут не даст выигрыш, так как нет комментов у 253 видео (это 3%), а для броадкаста первый датафрейм считаем слишком большим."
   ]
  },
  {
   "cell_type": "markdown",
   "id": "1a240483-7fc3-48a7-a563-c9073d096018",
   "metadata": {},
   "source": [
    "## Расчет comment_repl"
   ]
  },
  {
   "cell_type": "code",
   "execution_count": 9,
   "id": "92aa5462-f449-4e65-be8d-d7185829a0e9",
   "metadata": {},
   "outputs": [
    {
     "name": "stdout",
     "output_type": "stream",
     "text": [
      "+-----------+--------------------+-----+-------+----+\n",
      "|   video_id|        comment_text|likes|replies|salt|\n",
      "+-----------+--------------------+-----+-------+----+\n",
      "|XpVt6Z1Gjjo|Logan Paul it's y...|    4|      0|   0|\n",
      "|XpVt6Z1Gjjo|I've been followi...|    3|      0|   0|\n",
      "|XpVt6Z1Gjjo|Say hi to Kong an...|    3|      0|   1|\n",
      "|XpVt6Z1Gjjo| MY FAN . attendance|    3|      0|   0|\n",
      "|XpVt6Z1Gjjo|         trending 😉|    3|      0|   0|\n",
      "|XpVt6Z1Gjjo|#1 on trending AY...|    3|      0|   1|\n",
      "|XpVt6Z1Gjjo|The end though 😭...|    4|      0|   1|\n",
      "|XpVt6Z1Gjjo|#1 trending!!!!!!!!!|    3|      0|   1|\n",
      "|XpVt6Z1Gjjo|Happy one year vl...|    3|      0|   1|\n",
      "|XpVt6Z1Gjjo|You and your shit...|    0|      0|   0|\n",
      "|XpVt6Z1Gjjo|There should be a...|    0|      0|   1|\n",
      "|XpVt6Z1Gjjo|Dear Logan, I rea...|    0|      0|   0|\n",
      "|XpVt6Z1Gjjo|Honestly Evan is ...|    0|      0|   1|\n",
      "|XpVt6Z1Gjjo|Casey is still be...|    0|      0|   0|\n",
      "|XpVt6Z1Gjjo|aw geez rick this...|    0|      0|   1|\n",
      "|XpVt6Z1Gjjo|He happy cause he...|    0|      0|   0|\n",
      "|XpVt6Z1Gjjo|Ayyyyoooo Logang ...|    1|      0|   1|\n",
      "|XpVt6Z1Gjjo|Bro y didnt u giv...|    0|      0|   1|\n",
      "|XpVt6Z1Gjjo|It's been fun wat...|    3|      0|   0|\n",
      "|XpVt6Z1Gjjo|Made a lot of peo...|    0|      0|   1|\n",
      "+-----------+--------------------+-----+-------+----+\n",
      "only showing top 20 rows\n",
      "\n"
     ]
    }
   ],
   "source": [
    "salt_count = 2\n",
    "salted_comments = comments.withColumn('salt', (rand() * salt_count).cast('int'))\n",
    "salted_comments.show()"
   ]
  },
  {
   "cell_type": "code",
   "execution_count": 10,
   "id": "8eef08c1-96e6-4846-bcd1-be0e015c166a",
   "metadata": {},
   "outputs": [],
   "source": [
    "import pyspark.sql.functions as F\n",
    "\n",
    "\n",
    "comments_grouped = salted_comments.groupBy( \"salt\", \"video_id\") \\\n",
    "    .agg(F.sum(\"likes\").alias(\"sum_likes\"), \\\n",
    "         F.sum(\"replies\").alias(\"sum_replies\"), \\\n",
    "         F.count(\"likes\").alias(\"counts\")) \\\n",
    "# тут можно было бы сделать еще группировку, но я хочу посчитать еще engagement, поэтому video тоже буду солить\n",
    "\n",
    "comments_grouped = comments_grouped.withColumn('comment_repl', F.col('sum_likes') + F.col('sum_replies') + F.col('counts'))"
   ]
  },
  {
   "cell_type": "code",
   "execution_count": 11,
   "id": "533c8ee3-92da-430e-a92a-8dd53d54442b",
   "metadata": {},
   "outputs": [
    {
     "name": "stdout",
     "output_type": "stream",
     "text": [
      "+----+-----------+---------+-----------+------+------------+\n",
      "|salt|   video_id|sum_likes|sum_replies|counts|comment_repl|\n",
      "+----+-----------+---------+-----------+------+------------+\n",
      "|   1|S6eJbe5GyDo|      135|         39|   106|         280|\n",
      "|   0|gQvHtXWlXDE|      500|         41|   104|         645|\n",
      "+----+-----------+---------+-----------+------+------------+\n",
      "only showing top 2 rows\n",
      "\n"
     ]
    }
   ],
   "source": [
    "comments_grouped.show(2)"
   ]
  },
  {
   "cell_type": "code",
   "execution_count": 12,
   "id": "a8b54f6c-aa3f-4949-9c80-d95c13d1bca8",
   "metadata": {},
   "outputs": [],
   "source": [
    "videos_salt = videos.withColumn('salt', explode(array([lit(i) for i in list(range(salt_count))])))"
   ]
  },
  {
   "cell_type": "code",
   "execution_count": 13,
   "id": "58fb3078-79c9-44ef-b15f-d4701d63d4b6",
   "metadata": {},
   "outputs": [],
   "source": [
    "videos_comment_repl = videos_salt.join(comments_grouped.select('video_id', 'salt', 'comment_repl') , on=['video_id', 'salt'], how='left')"
   ]
  },
  {
   "cell_type": "code",
   "execution_count": 14,
   "id": "f1efd2a8-44cc-4d98-bc1b-368f24fb783e",
   "metadata": {},
   "outputs": [],
   "source": [
    "videos_comment_repl = videos_comment_repl.fillna(value=0, subset = 'comment_repl')"
   ]
  },
  {
   "cell_type": "code",
   "execution_count": 15,
   "id": "96902417-8faf-486c-b55b-9ab32098d60c",
   "metadata": {},
   "outputs": [],
   "source": [
    "videos_comment_repl = videos_comment_repl.withColumn('reactions', col('likes') + col('dislikes') + col('comment_repl')).drop('likes', 'dislikes', 'comment_repl')"
   ]
  },
  {
   "cell_type": "code",
   "execution_count": 16,
   "id": "bb73ee4b-1aa8-43c1-9ac5-591210aade91",
   "metadata": {},
   "outputs": [
    {
     "data": {
      "text/plain": [
       "15996"
      ]
     },
     "execution_count": 16,
     "metadata": {},
     "output_type": "execute_result"
    }
   ],
   "source": [
    "videos_comment_repl.count()"
   ]
  },
  {
   "cell_type": "code",
   "execution_count": 17,
   "id": "cab535a9-38d6-4e09-9ea9-3683a2a4699d",
   "metadata": {},
   "outputs": [],
   "source": [
    "engagement_group = videos_comment_repl.groupBy( \"salt\", \"category_id\").agg(F.sum(\"views\").alias(\"sum_views\"))"
   ]
  },
  {
   "cell_type": "code",
   "execution_count": 18,
   "id": "4bbcf3ac-e6c0-434d-8ffa-2a7a71ffa157",
   "metadata": {},
   "outputs": [
    {
     "name": "stdout",
     "output_type": "stream",
     "text": [
      "+----+-----------+----------+\n",
      "|salt|category_id| sum_views|\n",
      "+----+-----------+----------+\n",
      "|   0|         25| 337817005|\n",
      "|   1|         25| 337817005|\n",
      "|   0|         20|  55848709|\n",
      "|   1|         20|  55848709|\n",
      "|   1|          2|  70492489|\n",
      "|   1|         22| 856891892|\n",
      "|   1|         43|     16985|\n",
      "|   1|          1| 392920664|\n",
      "|   0|         22| 856891892|\n",
      "|   0|         10|1475992648|\n",
      "|   1|         26| 467360108|\n",
      "|   0|         27| 182892545|\n",
      "|   0|         28| 473462041|\n",
      "|   0|         17| 298658073|\n",
      "|   1|         19|  22273972|\n",
      "|   1|         23| 936255337|\n",
      "|   1|         27| 182892545|\n",
      "|   0|         15|  75562909|\n",
      "|   0|         24|1848944372|\n",
      "|   0|          1| 392920664|\n",
      "+----+-----------+----------+\n",
      "only showing top 20 rows\n",
      "\n"
     ]
    }
   ],
   "source": [
    "# видно, что категория 43 очень мелкая, по сравнению с остальными\n",
    "engagement_group.show()"
   ]
  },
  {
   "cell_type": "code",
   "execution_count": 19,
   "id": "96ad161a-81e9-4cb6-ae41-ee8cc4c8ac1f",
   "metadata": {},
   "outputs": [],
   "source": [
    "# так как маленький, то broadcast, только работает ли он с left\n",
    "videos_comment_engagement = videos_comment_repl.join(broadcast(engagement_group),  on=['category_id', 'salt'], how='left')"
   ]
  },
  {
   "cell_type": "code",
   "execution_count": 20,
   "id": "82a04865-66af-4f5c-a12e-4c639003a872",
   "metadata": {},
   "outputs": [
    {
     "data": {
      "text/plain": [
       "['category_id',\n",
       " 'salt',\n",
       " 'video_id',\n",
       " 'title',\n",
       " 'channel_title',\n",
       " 'tags',\n",
       " 'views',\n",
       " 'comment_total',\n",
       " 'thumbnail_link',\n",
       " 'date',\n",
       " 'reactions',\n",
       " 'sum_views']"
      ]
     },
     "execution_count": 20,
     "metadata": {},
     "output_type": "execute_result"
    }
   ],
   "source": [
    "videos_comment_engagement.columns"
   ]
  },
  {
   "cell_type": "code",
   "execution_count": 21,
   "id": "738b0ac2-d7fb-49d7-b409-e7abc7b53c06",
   "metadata": {},
   "outputs": [
    {
     "name": "stdout",
     "output_type": "stream",
     "text": [
      "+-----------+-------+---------+------------------+\n",
      "|   video_id|  views|reactions|sum_views_category|\n",
      "+-----------+-------+---------+------------------+\n",
      "|4yCkkOvIkUI|   5662|      381|       11093666232|\n",
      "|K7pQsR8WFSo| 633374|   225466|        1463140360|\n",
      "|g_ekn1gjBq0|   9534|     1024|        1869440432|\n",
      "|TzyraAp3jaY|  84257|    10992|        1463140360|\n",
      "|xPS7bqBePSs|  35945|    15533|        8855955888|\n",
      "|xNddRhpx5tA| 969749|   225426|        3929206640|\n",
      "|Bo-qp-Zu0OY|  21654|      461|          44547944|\n",
      "|tUXLO8Dtvq4| 445638|    29748|         731570180|\n",
      "|_r5eTelhpmQ|  51914|    21611|       14759926480|\n",
      "|aRgTLb5EbiQ|  22165|    23336|        3738880864|\n",
      "|JkqTeQHFoBY| 138900|    13424|        3929206640|\n",
      "|rn5Xgak1zzA| 283819|    83442|        3427567568|\n",
      "|7TN09IP5JuI|5066207|  1758564|        4673601080|\n",
      "|dInwVhRtN4E|2629650|   826663|        5500889296|\n",
      "|WQjO1mMCPg4|2318203|   677816|        9362553370|\n",
      "|RE-far-FvRs| 323280|   132044|        8568918920|\n",
      "|eHq6ZA6uKOg|  50747|     6378|       11093666232|\n",
      "|rjINNeC0DFA|1085443|   209941|        8855955888|\n",
      "|L6KZ6egpKGM| 144507|    24197|        8855955888|\n",
      "|fBTBc2OA9fw| 200676|    24178|        2951985296|\n",
      "+-----------+-------+---------+------------------+\n",
      "only showing top 20 rows\n",
      "\n"
     ]
    }
   ],
   "source": [
    "# избавляемся от соли. \n",
    "videos_with_score = (\n",
    "    videos_comment_engagement\n",
    "        .groupBy( \"video_id\")\n",
    "        .agg(F.max(\"views\").alias(\"views\"),\n",
    "             F.sum(\"reactions\").alias(\"reactions\"),\n",
    "             F.sum(\"sum_views\").alias(\"sum_views_category\"),\n",
    "            )\n",
    ")\n",
    "videos_with_score.show()"
   ]
  },
  {
   "cell_type": "code",
   "execution_count": 22,
   "id": "6897e43d-e959-46b8-8d5e-496eacd75b13",
   "metadata": {},
   "outputs": [],
   "source": [
    "videos_with_score = videos_with_score.withColumn('scored_videos', col('reactions') * col('views')/(col('sum_views_category')+1))"
   ]
  },
  {
   "cell_type": "code",
   "execution_count": 23,
   "id": "3c0a4deb-a07d-49f5-9eba-27cf7a42979c",
   "metadata": {},
   "outputs": [],
   "source": [
    "scored_videos = videos.join(videos_with_score.select('video_id', 'scored_videos'), on='video_id', how='inner')"
   ]
  },
  {
   "cell_type": "code",
   "execution_count": 24,
   "id": "573019ac-7fcb-402d-947f-c6c20e5a4435",
   "metadata": {},
   "outputs": [
    {
     "name": "stdout",
     "output_type": "stream",
     "text": [
      "+-----------+--------------------+-------------+-----------+------+-----+-----+--------+-------------+--------------------+-----+--------------------+\n",
      "|   video_id|               title|channel_title|category_id|  tags|views|likes|dislikes|comment_total|      thumbnail_link| date|       scored_videos|\n",
      "+-----------+--------------------+-------------+-----------+------+-----+-----+--------+-------------+--------------------+-----+--------------------+\n",
      "|4yCkkOvIkUI|EXCLUSIVE: Zonniq...|     YBF Chic|         24|[none]| 2306|    7|       1|            0|https://i.ytimg.c...|04.10|1.944552823829308...|\n",
      "|4yCkkOvIkUI|EXCLUSIVE: Zonniq...|     YBF Chic|         24|[none]| 4937|   19|      21|           12|https://i.ytimg.c...|05.10|1.944552823829308...|\n",
      "+-----------+--------------------+-------------+-----------+------+-----+-----+--------+-------------+--------------------+-----+--------------------+\n",
      "only showing top 2 rows\n",
      "\n"
     ]
    }
   ],
   "source": [
    "scored_videos.show(2)"
   ]
  },
  {
   "cell_type": "code",
   "execution_count": 25,
   "id": "4e6fd6a8-1944-4fc7-99e3-dd97959c0bd6",
   "metadata": {},
   "outputs": [
    {
     "data": {
      "text/plain": [
       "7998"
      ]
     },
     "execution_count": 25,
     "metadata": {},
     "output_type": "execute_result"
    }
   ],
   "source": [
    "scored_videos.count()"
   ]
  },
  {
   "cell_type": "markdown",
   "id": "c9e72516-16fb-4900-95fe-ff0d9fbed905",
   "metadata": {},
   "source": [
    "# categories_score\n",
    "датасет по категориям, в котором присутствуют следующие поля: Название категории (не id, он непонятный для аналитиков!). Медиана показателя score из датасета scored_videos по каждой категории."
   ]
  },
  {
   "cell_type": "code",
   "execution_count": 26,
   "id": "42e6e8a1-8ab2-45e7-b816-44b5ba14de80",
   "metadata": {},
   "outputs": [
    {
     "name": "stderr",
     "output_type": "stream",
     "text": [
      "/usr/local/spark/python/pyspark/sql/pandas/functions.py:399: UserWarning: In Python 3.6+ and Spark 3.0+, it is preferred to specify type hints for pandas UDF instead of specifying pandas UDF type which will be deprecated in the future releases. See SPARK-28264 for more details.\n",
      "  warnings.warn(\n"
     ]
    }
   ],
   "source": [
    "# расчет медианы\n",
    "@pandas_udf(\"double\", PandasUDFType.GROUPED_AGG)\n",
    "def pd_median(pdf):\n",
    "    return pdf.median()"
   ]
  },
  {
   "cell_type": "code",
   "execution_count": 27,
   "id": "97960f0f-da2e-48ba-b9d0-5c608a93ba6d",
   "metadata": {},
   "outputs": [],
   "source": [
    "median_score = scored_videos.select('category_id', 'scored_videos').groupby(\"category_id\").agg(pd_median(col('scored_videos')).alias('score_median'))"
   ]
  },
  {
   "cell_type": "code",
   "execution_count": 28,
   "id": "7277c96d-b0e0-4ab7-bdaf-f63b6e9785d0",
   "metadata": {},
   "outputs": [],
   "source": [
    "median_score = scored_videos.select('category_id', 'scored_videos').groupby(\"category_id\").agg(pd_median(col('scored_videos')).alias('score_median'))"
   ]
  },
  {
   "cell_type": "markdown",
   "id": "f7310ca8-0cc8-4d86-9102-dfd410ceba3e",
   "metadata": {},
   "source": [
    "так как таблица с category маленькая, то сдалаем бродкаст"
   ]
  },
  {
   "cell_type": "code",
   "execution_count": 29,
   "id": "ca065f10-8682-4b7f-b37c-94186b5205e5",
   "metadata": {},
   "outputs": [],
   "source": [
    "categories_score = median_score.join(broadcast(category.withColumnRenamed('id', 'category_id')), 'category_id').drop('category_id')"
   ]
  },
  {
   "cell_type": "code",
   "execution_count": 30,
   "id": "da2bac1e-3bd2-44d7-a32f-52a190eb6abe",
   "metadata": {},
   "outputs": [
    {
     "name": "stdout",
     "output_type": "stream",
     "text": [
      "+------------------+--------------------+\n",
      "|      score_median|               title|\n",
      "+------------------+--------------------+\n",
      "|10.865004454315752|Science & Technology|\n",
      "| 8.836079961055406|       Howto & Style|\n",
      "|13.710283821498654|           Education|\n",
      "| 4.379790432612726|      People & Blogs|\n",
      "| 9.154454749075859|    Film & Animation|\n",
      "|19.979364803259166|              Gaming|\n",
      "|118.57770709587794|     Travel & Events|\n",
      "|  39.6904969663218|      Pets & Animals|\n",
      "| 105.3166718181952|               Shows|\n",
      "|1.6719997335631602|              Sports|\n",
      "| 36.93927473818007|              Comedy|\n",
      "|2.2245003633497435|               Music|\n",
      "|1.2663582742774129|     News & Politics|\n",
      "|2.8589205865131477|       Entertainment|\n",
      "| 4.450700413833994|Nonprofits & Acti...|\n",
      "|  5.55108388678234|    Autos & Vehicles|\n",
      "+------------------+--------------------+\n",
      "\n"
     ]
    }
   ],
   "source": [
    "categories_score.show()"
   ]
  },
  {
   "cell_type": "markdown",
   "id": "3c07f074-40a5-4c52-9d1a-ddef8dbb8498",
   "metadata": {},
   "source": [
    "# popular_tags - датасет по самым популярным тэгам \n",
    "(название тэга + количество видео с этим тэгом). В исходном датасете тэги лежат строкой в поле tags. Другие разработчики уже сталкивались с подобной задачей, поэтому написали Scala-функцию для разбиения тегов (код функции - в разделе Примечания). Но не доверяйте им вслепую! Обязательно напишите свою UDF-функцию разбиения строки на тэги и сравните время работы с её Scala-версией. Можно замерять своими силами, а можно воспользоваться библиотекой timeit. Стандартные функции Spark из пакета pyspark.sq.functions использовать нельзя, нужно написать свою функцию."
   ]
  },
  {
   "cell_type": "code",
   "execution_count": 31,
   "id": "8be34f85-902e-442c-b4b2-40a186bbf4c0",
   "metadata": {},
   "outputs": [
    {
     "name": "stdout",
     "output_type": "stream",
     "text": [
      "+-----------+--------------------+----------------+-----------+--------------------+-------+------+--------+-------------+--------------------+-----+\n",
      "|   video_id|               title|   channel_title|category_id|                tags|  views| likes|dislikes|comment_total|      thumbnail_link| date|\n",
      "+-----------+--------------------+----------------+-----------+--------------------+-------+------+--------+-------------+--------------------+-----+\n",
      "|XpVt6Z1Gjjo|1 YEAR OF VLOGGIN...|Logan Paul Vlogs|         24|logan paul vlog|l...|4394029|320053|    5931|        46245|https://i.ytimg.c...|13.09|\n",
      "+-----------+--------------------+----------------+-----------+--------------------+-------+------+--------+-------------+--------------------+-----+\n",
      "only showing top 1 row\n",
      "\n"
     ]
    }
   ],
   "source": [
    "videos.show(1)"
   ]
  },
  {
   "cell_type": "raw",
   "id": "04f156e2-786d-4b53-8d38-fa7f27ac3ebf",
   "metadata": {},
   "source": [
    "object CustomUDFs {\n",
    "  def splitTags(s: String): Array[String] = s.split('|')\n",
    "  val splitTagsUDF: UserDefinedFunction = udf(splitTags _)\n",
    "}"
   ]
  },
  {
   "cell_type": "code",
   "execution_count": 32,
   "id": "44cf94e7-5259-455b-bc17-7579bfca5e96",
   "metadata": {},
   "outputs": [],
   "source": [
    "from pyspark.sql.column import Column\n",
    "from pyspark.sql.column import _to_java_column\n",
    "from pyspark.sql.column import _to_seq\n",
    "from pyspark.sql import SparkSession\n",
    "import timeit\n",
    "\n",
    "#sc = spark.sparkContext\n",
    "def splitTags(tagsString):   \n",
    "    sc = spark.sparkContext\n",
    "    _ipToIntUDF = sc._jvm.CustomUDFs.splitTagsUDF()\n",
    "    return Column(_ipToIntUDF.apply(_to_seq(sc, [tagsString], _to_java_column)))\n"
   ]
  },
  {
   "cell_type": "code",
   "execution_count": 33,
   "id": "7b97f234-b011-4e1a-92ae-c2804f9bf519",
   "metadata": {},
   "outputs": [],
   "source": [
    "@pandas_udf('array<string>', PandasUDFType.SCALAR) \n",
    "def pd_splitTags(tagsString): \n",
    "    return tagsString.str.split('|') \n"
   ]
  },
  {
   "cell_type": "code",
   "execution_count": 34,
   "id": "93bc805c-58a1-4e80-b656-ff9e8024e404",
   "metadata": {},
   "outputs": [],
   "source": [
    "def scala_split():\n",
    "    videos.withColumn(\"split_tags\", splitTags(col(\"tags\")))\n",
    "\n",
    "def pandas_split():\n",
    "    videos.withColumn(\"split_tags\", pd_splitTags(col(\"tags\")))\n"
   ]
  },
  {
   "cell_type": "code",
   "execution_count": 35,
   "id": "8b72236f-e939-4a67-a087-b4a49697c3f3",
   "metadata": {},
   "outputs": [],
   "source": [
    "# создала чисто для проверки\n",
    "temp = (\n",
    "    videos\n",
    "    .select(splitTags(col(\"tags\")).alias(\"scala_split_tags\"), pd_splitTags(col(\"tags\")).alias(\"pandas_split_tags\"))\n",
    ")"
   ]
  },
  {
   "cell_type": "raw",
   "id": "da5c762a-855f-4e45-a22a-dea87ebc43be",
   "metadata": {},
   "source": [
    "!pip install chispa"
   ]
  },
  {
   "cell_type": "code",
   "execution_count": 36,
   "id": "7de7236b-c3cf-4e4d-ab97-379ba87b0c25",
   "metadata": {},
   "outputs": [],
   "source": [
    "from chispa.column_comparer import assert_column_equality\n",
    "\n",
    "# тут ошибок нет, значит все ок\n",
    "assert_column_equality(temp, \"scala_split_tags\", \"scala_split_tags\")"
   ]
  },
  {
   "cell_type": "code",
   "execution_count": 37,
   "id": "fad00311-c58b-4c80-b8b0-ca8ff6e8cdd7",
   "metadata": {},
   "outputs": [
    {
     "name": "stdout",
     "output_type": "stream",
     "text": [
      "Scala: 7.90579439800058\n",
      "pandas_udf: 4.358572983997874\n"
     ]
    }
   ],
   "source": [
    "print(f'Scala: {timeit.timeit(stmt=scala_split, number=1000)}')\n",
    "print(f'pandas_udf: {timeit.timeit(stmt=pandas_split, number=1000)}')"
   ]
  },
  {
   "cell_type": "markdown",
   "id": "457f8f50-d858-48a1-bdd2-29ad72cef14f",
   "metadata": {},
   "source": [
    "Получен странный результат - pandas_udf быстрее скалы"
   ]
  },
  {
   "cell_type": "code",
   "execution_count": 38,
   "id": "e08e0833-189c-49ed-a9b2-3fa5f36cda73",
   "metadata": {},
   "outputs": [],
   "source": [
    "v_tags = videos.select('video_id', explode(splitTags(col(\"tags\"))).alias('tag'))"
   ]
  },
  {
   "cell_type": "code",
   "execution_count": 39,
   "id": "0b1eceb3-0249-4a7f-b22b-1686230c9a4f",
   "metadata": {},
   "outputs": [],
   "source": [
    "popular_tags = v_tags.groupBy('tag').agg(F.count(\"video_id\").alias(\"count_video_id\"))"
   ]
  },
  {
   "cell_type": "code",
   "execution_count": 40,
   "id": "44041be6-5d36-4334-be96-7925cc97bdcd",
   "metadata": {},
   "outputs": [
    {
     "name": "stdout",
     "output_type": "stream",
     "text": [
      "+------+--------------+\n",
      "|   tag|count_video_id|\n",
      "+------+--------------+\n",
      "| funny|           722|\n",
      "|comedy|           572|\n",
      "|[none]|           491|\n",
      "|  2017|           309|\n",
      "|how to|           284|\n",
      "+------+--------------+\n",
      "only showing top 5 rows\n",
      "\n"
     ]
    }
   ],
   "source": [
    "popular_tags.sort(desc(\"count_video_id\")).show(5)"
   ]
  },
  {
   "cell_type": "markdown",
   "id": "01d69a62-2b1c-4834-a836-ee52f4c643c9",
   "metadata": {},
   "source": [
    "# Просьба от Марка: \n",
    "он любит котов (а кто не их не любит!) и хочет найти самые интересные комментарии (топ-5) к видео про котов. “Видео про котов” - видео, у которого есть тэг “cat”."
   ]
  },
  {
   "cell_type": "code",
   "execution_count": 41,
   "id": "55750483-284f-474f-9152-dccbd2725610",
   "metadata": {},
   "outputs": [],
   "source": [
    "video_cats = videos.withColumn(\"split_tags\", splitTags(col(\"tags\"))).filter(array_contains(col('split_tags'), \"cat\"))"
   ]
  },
  {
   "cell_type": "code",
   "execution_count": 42,
   "id": "69bbd472-1d57-461d-98f3-3fab78d2eb5e",
   "metadata": {},
   "outputs": [
    {
     "name": "stdout",
     "output_type": "stream",
     "text": [
      "+-----------+------------------------------------+-------------+-----------+--------------------+------+-----+--------+-------------+--------------------+-----+--------------------+\n",
      "|   video_id|                               title|channel_title|category_id|                tags| views|likes|dislikes|comment_total|      thumbnail_link| date|          split_tags|\n",
      "+-----------+------------------------------------+-------------+-----------+--------------------+------+-----+--------+-------------+--------------------+-----+--------------------+\n",
      "|Vjc459T6wX8|更なるフィット感を追求するねこ。-...|     mugumogu|         15|Maru|cat|kitty|pe...| 43199| 3263|       7|          294|https://i.ytimg.c...|13.09|[Maru, cat, kitty...|\n",
      "|0Yhaei1S5oQ|                Japan's Ominous D...|      SciShow|         27|SciShow|science|H...|295156|10918|     149|          781|https://i.ytimg.c...|13.09|[SciShow, science...|\n",
      "|-1fzGnFwz9M|                9 Things You Need...|  Simon's Cat|         15|cartoon|simons ca...|189414| 7070|     112|          288|https://i.ytimg.c...|13.09|[cartoon, simons ...|\n",
      "|Vjc459T6wX8|更なるフィット感を追求するねこ。-...|     mugumogu|         15|Maru|cat|kitty|pe...| 61085| 3797|       9|          362|https://i.ytimg.c...|14.09|[Maru, cat, kitty...|\n",
      "|0Yhaei1S5oQ|                Japan's Ominous D...|      SciShow|         27|SciShow|science|H...|307749|11202|     150|          800|https://i.ytimg.c...|14.09|[SciShow, science...|\n",
      "|Vjc459T6wX8|更なるフィット感を追求するねこ。-...|     mugumogu|         15|Maru|cat|kitty|pe...| 77810| 4298|      16|          419|https://i.ytimg.c...|15.09|[Maru, cat, kitty...|\n",
      "|Vjc459T6wX8|更なるフィット感を追求するねこ。-...|     mugumogu|         15|Maru|cat|kitty|pe...| 95741| 4749|      20|          487|https://i.ytimg.c...|16.09|[Maru, cat, kitty...|\n",
      "|BY3SLVNBkeo|                Learn to Play Cat...|  Simon's Cat|         15|cartoon|simons ca...| 66418| 4076|      51|          321|https://i.ytimg.c...|23.09|[cartoon, simons ...|\n",
      "|7V1J_MDi9Lg|                  Husky's First Howl|TheAmazingTen|         22|Husky's First How...|241645|10046|     103|          796|https://i.ytimg.c...|24.09|[Husky's First Ho...|\n",
      "|BY3SLVNBkeo|                Learn to Play Cat...|  Simon's Cat|         15|cartoon|simons ca...| 86083| 4554|      57|          367|https://i.ytimg.c...|24.09|[cartoon, simons ...|\n",
      "|7V1J_MDi9Lg|                  Husky's First Howl|TheAmazingTen|         22|Husky's First How...|675960|25319|     269|         1607|https://i.ytimg.c...|25.09|[Husky's First Ho...|\n",
      "|BY3SLVNBkeo|                Learn to Play Cat...|  Simon's Cat|         15|cartoon|simons ca...| 98524| 4891|      62|          322|https://i.ytimg.c...|25.09|[cartoon, simons ...|\n",
      "|7V1J_MDi9Lg|                  Husky's First Howl|TheAmazingTen|         22|Husky's First How...|843914|31570|     346|         1925|https://i.ytimg.c...|26.09|[Husky's First Ho...|\n",
      "|BY3SLVNBkeo|                Learn to Play Cat...|  Simon's Cat|         15|cartoon|simons ca...|106186| 5080|      68|          334|https://i.ytimg.c...|26.09|[cartoon, simons ...|\n",
      "|7V1J_MDi9Lg|                  Husky's First Howl|TheAmazingTen|         22|Husky's First How...|872398|31823|     364|         1942|https://i.ytimg.c...|27.09|[Husky's First Ho...|\n",
      "|BY3SLVNBkeo|                Things you didn't...|  Simon's Cat|         15|cartoon|simons ca...|111901| 5230|      71|          349|https://i.ytimg.c...|27.09|[cartoon, simons ...|\n",
      "|7V1J_MDi9Lg|                  Husky's First Howl|TheAmazingTen|         22|Husky's First How...|892375|31960|     380|         1944|https://i.ytimg.c...|28.09|[Husky's First Ho...|\n",
      "|tp9aQXDFHbY|                Cats Can Be A Rea...|  Simon's Cat|         15|cartoon|simons ca...|103451| 6125|     107|          313|https://i.ytimg.c...|30.09|[cartoon, simons ...|\n",
      "|tp9aQXDFHbY|                Cats Can Be A Rea...|  Simon's Cat|         15|cartoon|simons ca...|205193| 8318|     158|          423|https://i.ytimg.c...|01.10|[cartoon, simons ...|\n",
      "|tp9aQXDFHbY|                Cats Can Be A Rea...|  Simon's Cat|         15|cartoon|simons ca...|248729| 9103|     183|          481|https://i.ytimg.c...|02.10|[cartoon, simons ...|\n",
      "+-----------+------------------------------------+-------------+-----------+--------------------+------+-----+--------+-------------+--------------------+-----+--------------------+\n",
      "only showing top 20 rows\n",
      "\n"
     ]
    }
   ],
   "source": [
    "video_cats.show()"
   ]
  },
  {
   "cell_type": "code",
   "execution_count": 43,
   "id": "8bf1992c-d5f1-481f-ba84-b18fa0f9fe94",
   "metadata": {},
   "outputs": [
    {
     "name": "stdout",
     "output_type": "stream",
     "text": [
      "root\n",
      " |-- video_id: string (nullable = true)\n",
      " |-- title: string (nullable = true)\n",
      " |-- channel_title: string (nullable = true)\n",
      " |-- category_id: integer (nullable = true)\n",
      " |-- tags: string (nullable = true)\n",
      " |-- views: integer (nullable = true)\n",
      " |-- likes: integer (nullable = true)\n",
      " |-- dislikes: integer (nullable = true)\n",
      " |-- comment_total: integer (nullable = true)\n",
      " |-- thumbnail_link: string (nullable = true)\n",
      " |-- date: string (nullable = true)\n",
      " |-- split_tags: array (nullable = true)\n",
      " |    |-- element: string (containsNull = true)\n",
      "\n"
     ]
    }
   ],
   "source": [
    "video_cats.printSchema()"
   ]
  },
  {
   "cell_type": "code",
   "execution_count": 44,
   "id": "f536d13f-12b7-42ea-9162-8774e61a15b6",
   "metadata": {},
   "outputs": [],
   "source": [
    "# get top-3\n",
    "from pyspark.sql.window import Window\n",
    "from pyspark.sql.functions import rank, col\n",
    "\n",
    "#совсем маленький датафрейм на 3 значения\n",
    "cats_most_liked = video_cats.groupBy('video_id').agg(F.sum('likes').alias('sum_likes')).orderBy(col('sum_likes').desc()).limit(4).select('video_id')\n"
   ]
  },
  {
   "cell_type": "code",
   "execution_count": 45,
   "id": "36777240-8a0b-49ec-97f2-9d5fb6632ed8",
   "metadata": {},
   "outputs": [],
   "source": [
    "cats_comment = comments.join(broadcast(cats_most_liked), 'video_id')"
   ]
  },
  {
   "cell_type": "code",
   "execution_count": 46,
   "id": "11641e00-4de9-402d-b3c6-58ed39ce5218",
   "metadata": {},
   "outputs": [],
   "source": [
    "# интересные длинные\n",
    "cats_comment = cats_comment.filter(length('comment_text') > 30)"
   ]
  },
  {
   "cell_type": "code",
   "execution_count": 47,
   "id": "2bdc7fba-feec-40c0-a7a8-458717b41dd9",
   "metadata": {},
   "outputs": [
    {
     "name": "stdout",
     "output_type": "stream",
     "text": [
      "+---------------------------------------------------------------------------------------+\n",
      "|comment_text                                                                           |\n",
      "+---------------------------------------------------------------------------------------+\n",
      "|This is what California needs right now                                                |\n",
      "|This is just like my cats is in hell that show 😂😂😂                                  |\n",
      "|What the “Maned Wolf” class. Are the long legs an ability or some kind of model glitch.|\n",
      "|lol Gus is like MOTHER U BETRAYED ME!                                                  |\n",
      "|A rare soul? A life well done? Someone call a medium!                                  |\n",
      "+---------------------------------------------------------------------------------------+\n",
      "only showing top 5 rows\n",
      "\n"
     ]
    }
   ],
   "source": [
    "# интересные цитируемые\n",
    "cats_comment.orderBy((col('likes')+col('replies')).desc()).distinct().select('comment_text').show(5, False)"
   ]
  },
  {
   "cell_type": "markdown",
   "id": "de19f3ff-91d1-49df-849d-cc99e533e606",
   "metadata": {},
   "source": [
    "**Вопросы, которые возникли**:\n",
    "\n",
    "- https://stackoverflow.com/questions/58110207/spark-how-does-salting-work-in-dealing-with-skewed-data тут есть картинка, в которой написован план. Правильно ли я понимаю, что repartion явно перед группировкой указывать не нужно, спарк сделает это автоматически?\n",
    "- есть ли какая-то эвристическая формула для расчета соли?\n",
    "- Следовало ли делать кэширование? Я думаю, что если бы задача звучала, как вывести отсортированные по скору топ-100 значений, то выгодно было бы закэшировать в видео video_id, category_id и используемые views| likes|dislikes|comment_total|. Посчитать на них score, найти топ, а потом еще раз считать весь video, но уже с фильтром по top-score. "
   ]
  },
  {
   "cell_type": "markdown",
   "id": "847285fe-0b2b-44cd-80ff-8646da09d463",
   "metadata": {},
   "source": [
    "## Расчет engagement"
   ]
  },
  {
   "cell_type": "code",
   "execution_count": null,
   "id": "e6949952-ff60-41cc-81c1-09982aaaa11a",
   "metadata": {},
   "outputs": [],
   "source": [
    "# engagement = 100 * views/sum(views)\n",
    "category_grouped = "
   ]
  },
  {
   "cell_type": "code",
   "execution_count": null,
   "id": "20d6e514-82b5-4292-9686-0a5e61bd2a5d",
   "metadata": {},
   "outputs": [],
   "source": []
  }
 ],
 "metadata": {
  "kernelspec": {
   "display_name": "Python 3 (ipykernel)",
   "language": "python",
   "name": "python3"
  },
  "language_info": {
   "codemirror_mode": {
    "name": "ipython",
    "version": 3
   },
   "file_extension": ".py",
   "mimetype": "text/x-python",
   "name": "python",
   "nbconvert_exporter": "python",
   "pygments_lexer": "ipython3",
   "version": "3.11.3"
  }
 },
 "nbformat": 4,
 "nbformat_minor": 5
}
